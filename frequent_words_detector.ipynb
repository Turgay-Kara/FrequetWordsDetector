{
  "nbformat": 4,
  "nbformat_minor": 0,
  "metadata": {
    "colab": {
      "provenance": []
    },
    "kernelspec": {
      "name": "python3",
      "display_name": "Python 3"
    },
    "language_info": {
      "name": "python"
    }
  },
  "cells": [
    {
      "cell_type": "code",
      "execution_count": 117,
      "metadata": {
        "id": "pJKjoPrMYo7K"
      },
      "outputs": [],
      "source": [
        "import pandas as pd\n",
        "import numpy as np\n",
        "from collections import Counter\n",
        "from langdetect import detect, detect_langs"
      ]
    },
    {
      "cell_type": "code",
      "source": [
        "with open('article-sample.txt', 'r', encoding='utf-8') as file:\n",
        "    metin = file.read()"
      ],
      "metadata": {
        "id": "580M6Jdt0x9H"
      },
      "execution_count": 118,
      "outputs": []
    },
    {
      "cell_type": "code",
      "source": [
        "# Preprocessing\n",
        "metin = metin.lower()\n",
        "metin = metin.replace(',', \" \")\n",
        "metin = metin.replace('.', \" \")\n",
        "metin = metin.replace('?', \" \")\n",
        "metin = metin.replace('!', \" \")\n",
        "metin = metin.replace('\"', \" \")\n",
        "metin = metin.replace(\"\\n\",\" \")\n",
        "metin = metin.replace(\"  \", \" \")\n",
        "metin = metin.replace(\"'\", \" \")"
      ],
      "metadata": {
        "id": "67Gb9JUj05FP"
      },
      "execution_count": 119,
      "outputs": []
    },
    {
      "cell_type": "code",
      "source": [
        "# Dil tespiti\n",
        "dil = detect(metin)\n",
        "print(f\"Tespit edilen dil: {dil}\")"
      ],
      "metadata": {
        "colab": {
          "base_uri": "https://localhost:8080/"
        },
        "id": "j0yGpZJF38cY",
        "outputId": "5f9c4e6f-040a-4981-b391-eedc42af302b"
      },
      "execution_count": 120,
      "outputs": [
        {
          "output_type": "stream",
          "name": "stdout",
          "text": [
            "Tespit edilen dil: en\n"
          ]
        }
      ]
    },
    {
      "cell_type": "code",
      "source": [
        "if dil == \"tr\":\n",
        "    stopwords = ['fakat','lakin','ancak','acaba', 'ama', 'aslında', 'az', 'bazı', 'belki', 'biri', 'birkaç', 'birşey', 'biz', 'bu', 'çok', 'çünkü', 'da', 'daha', 'de', 'defa', 'diye', 'eğer', 'en', 'gibi', 'hem', 'hep', 'hepsi', 'her', 'hiç', 'için', 'ile', 'ise', 'kez', 'ki', 'kim', 'mı', 'mu', 'mü', 'nasıl', 'ne', 'neden', 'nerde', 'nerede', 'nereye', 'niçin', 'niye', 'o', 'sanki', 'şey', 'siz', 'şu', 'tüm', 've', 'veya', 'ya', 'yani']\n",
        "\n",
        "elif dil == \"en\":\n",
        "    stopwords = [\"a\", \"an\", \"the\", \"and\", \"but\", \"or\", \"so\", \"for\", \"nor\", \"yet\", \"as\", \"at\", \"by\", \"to\", \"of\", \"from\", \"with\", \"on\", \"in\", \"out\", \"about\", \"between\", \"through\", \"during\", \"before\", \"after\", \"above\", \"below\", \"under\", \"over\", \"again\", \"further\", \"then\", \"once\", \"here\", \"there\", \"when\", \"where\", \"why\", \"how\", \"all\", \"any\", \"each\", \"every\", \"some\", \"such\", \"no\", \"nor\", \"not\", \"only\", \"own\", \"same\", \"than\", \"too\", \"very\", \"s\", \"t\", \"can\", \"will\", \"just\", \"don\", \"should\", \"now\", \"d\", \"ll\", \"m\", \"o\", \"re\", \"ve\", \"y\", \"ain\", \"aren\", \"couldn\", \"didn\", \"doesn\", \"hadn\", \"hasn\", \"haven\", \"isn\", \"ma\", \"mightn\", \"mustn\", \"needn\", \"needn\", \"shan\", \"shouldn\", \"wasn\", \"weren\"]\n",
        "\n",
        "elif dil == \"es\":\n",
        "    stopwords = [\"y\", \"a\", \"de\", \"en\", \"la\", \"el\", \"que\", \"los\", \"las\", \"un\", \"una\", \"con\", \"por\", \"para\", \"es\", \"como\", \"más\", \"se\", \"al\", \"sus\", \"ha\", \"me\", \"si\", \"no\", \"le\", \"lo\", \"todo\", \"esta\", \"está\", \"entre\", \"ser\", \"cuando\", \"muy\", \"este\", \"fue\", \"estoy\", \"estás\", \"estamos\", \"ya\", \"pero\", \"también\", \"porque\", \"ni\", \"sobre\", \"mi\", \"te\", \"hasta\", \"hace\", \"aún\", \"debe\", \"mejor\", \"cual\", \"además\", \"tanto\", \"como\", \"estoy\", \"este\", \"todos\", \"una\", \"algunos\", \"ellas\", \"estos\", \"esto\", \"nos\", \"vos\", \"siempre\", \"vez\", \"luego\", \"otra\", \"aquí\", \"ahora\", \"sin\", \"desde\", \"debería\", \"aunque\", \"nada\", \"tú\", \"ya\", \"cuando\"]\n",
        "\n",
        "elif dil == \"fr\":\n",
        "    stopwords = [\"le\", \"la\", \"les\", \"un\", \"une\", \"des\", \"du\", \"de\", \"en\", \"à\", \"dans\", \"pour\", \"sur\", \"avec\", \"par\", \"que\", \"qui\", \"quoi\", \"dont\", \"ce\", \"cela\", \"cette\", \"ces\", \"il\", \"elle\", \"ils\", \"elles\", \"je\", \"tu\", \"nous\", \"vous\", \"ils\", \"elles\", \"être\", \"avoir\", \"faire\", \"dire\", \"pouvoir\", \"aller\", \"voir\", \"savoir\", \"venir\", \"vouloir\", \"devoir\", \"prendre\", \"donner\", \"mettre\", \"voulu\", \"fait\", \"faites\", \"en\", \"se\", \"ne\", \"pas\", \"plus\", \"moins\", \"aussi\", \"très\", \"tout\", \"tous\", \"toute\", \"aucun\", \"aucune\", \"chaque\", \"quelques\", \"tout\", \"autre\", \"quel\", \"quelle\", \"quels\", \"quelles\", \"comment\", \"pourquoi\", \"où\", \"quand\", \"parce\", \"que\", \"si\", \"mais\", \"donc\", \"or\", \"ni\", \"car\", \"aussi\", \"ni\", \"non\", \"c'est\", \"cela\", \"ça\", \"même\", \"comme\", \"sans\", \"sous\", \"devant\", \"derrière\", \"avant\", \"après\", \"entre\", \"au\", \"elle\", \"moi\", \"toi\", \"nous\", \"vous\", \"lequel\", \"lesquels\", \"laquelle\", \"lesquelles\"]\n",
        "\n",
        "elif dil == \"de\":\n",
        "    stopwords = [\"der\", \"die\", \"das\", \"und\", \"in\", \"zu\", \"den\", \"mit\", \"auf\", \"für\", \"an\", \"dass\", \"ist\", \"sich\", \"von\", \"nicht\", \"es\", \"auch\", \"die\", \"beim\", \"als\", \"werden\", \"aus\", \"hat\", \"nur\", \"noch\", \"was\", \"am\", \"wir\", \"dem\", \"aber\", \"oder\", \"so\", \"wie\", \"im\", \"durch\", \"für\", \"mehr\", \"man\", \"kann\", \"ich\", \"ja\", \"werden\", \"was\", \"hier\", \"doch\", \"noch\", \"viel\", \"einen\", \"dann\", \"wenn\", \"wo\", \"dies\", \"alle\", \"ihre\", \"über\", \"vor\", \"seit\", \"bis\", \"nun\", \"auch\", \"dieser\", \"war\", \"haben\", \"könnte\", \"dieses\", \"selbst\", \"dieser\", \"uns\", \"nach\", \"meine\", \"meist\"]\n",
        "\n",
        "for word in stopwords:\n",
        "    word = \" \" +word+ \" \"\n",
        "    metin = metin.replace(word, \" \")"
      ],
      "metadata": {
        "id": "0oE6A2E-2334"
      },
      "execution_count": 121,
      "outputs": []
    },
    {
      "cell_type": "code",
      "source": [
        "metin = metin.split()\n",
        "kelime_sikligi = Counter(metin)\n",
        "en_sik_kelimeler = kelime_sikligi.most_common(10)\n",
        "en_sik_kelimeler"
      ],
      "metadata": {
        "colab": {
          "base_uri": "https://localhost:8080/"
        },
        "id": "ySyq3YYc1L8H",
        "outputId": "638a02c2-4cb6-4b96-e0ca-7b8b69c632b7"
      },
      "execution_count": 122,
      "outputs": [
        {
          "output_type": "execute_result",
          "data": {
            "text/plain": [
              "[('ai', 11),\n",
              " ('learning', 5),\n",
              " ('intelligence', 4),\n",
              " ('artificial', 3),\n",
              " ('systems', 3),\n",
              " ('that', 3),\n",
              " ('is', 3),\n",
              " ('it', 3),\n",
              " ('challenges', 3),\n",
              " ('future', 2)]"
            ]
          },
          "metadata": {},
          "execution_count": 122
        }
      ]
    },
    {
      "cell_type": "code",
      "source": [],
      "metadata": {
        "id": "CXXf-GYiajOx"
      },
      "execution_count": null,
      "outputs": []
    }
  ]
}